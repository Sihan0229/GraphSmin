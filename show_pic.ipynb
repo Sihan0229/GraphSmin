{
 "cells": [
  {
   "cell_type": "code",
   "execution_count": null,
   "metadata": {},
   "outputs": [],
   "source": [
    "import matplotlib.pyplot as plt\n",
    "import re\n",
    "\n",
    "# 定义一个函数来读取日志文件并提取数据\n",
    "def extract_data_from_log(file_path):\n",
    "    epochs = []\n",
    "    loss_cls = []\n",
    "    loss_edge = []\n",
    "    acc_train = []\n",
    "    \n",
    "    with open(file_path, 'r') as f:\n",
    "        for line in f:\n",
    "            # 使用正则表达式匹配符合格式的行\n",
    "            match = re.match(r\"Epoch: (\\d+)\\s+loss_cls: ([\\d\\.]+)\\s+loss_edge: ([\\d\\.]+)\\s+acc_train: ([\\d\\.]+)\", line)\n",
    "            if match:\n",
    "                epoch = int(match.group(1))\n",
    "                cls_loss = float(match.group(2))\n",
    "                edge_loss = float(match.group(3))\n",
    "                train_acc = float(match.group(4))\n",
    "                \n",
    "                epochs.append(epoch)\n",
    "                loss_cls.append(cls_loss)\n",
    "                loss_edge.append(edge_loss)\n",
    "                acc_train.append(train_acc)\n",
    "    \n",
    "    return epochs, loss_cls, loss_edge, acc_train\n",
    "\n",
    "# 提取数据\n",
    "file_path = '/root/autodl-tmp/GraphSmin/output_my_data.log'\n",
    "epochs, loss_cls, loss_edge, acc_train = extract_data_from_log(file_path)\n",
    "\n",
    "# 创建绘图\n",
    "plt.figure(figsize=(12, 6))\n",
    "\n",
    "# 绘制 loss_cls 和 loss_edge\n",
    "plt.subplot(1, 2, 1)\n",
    "plt.plot(epochs, loss_cls, label='loss_cls', color='b')\n",
    "plt.plot(epochs, loss_edge, label='loss_edge', color='r')\n",
    "plt.xlabel('Epoch')\n",
    "plt.ylabel('Loss')\n",
    "plt.title('Loss vs Epoch')\n",
    "plt.legend()\n",
    "\n",
    "# 绘制 acc_train\n",
    "plt.subplot(1, 2, 2)\n",
    "plt.plot(epochs, acc_train, label='acc_train', color='g')\n",
    "plt.xlabel('Epoch')\n",
    "plt.ylabel('Accuracy')\n",
    "plt.title('Accuracy vs Epoch')\n",
    "plt.legend()\n",
    "\n",
    "# 显示图表\n",
    "plt.tight_layout()\n",
    "plt.show()\n"
   ]
  }
 ],
 "metadata": {
  "kernelspec": {
   "display_name": "graphsmin",
   "language": "python",
   "name": "python3"
  },
  "language_info": {
   "name": "python",
   "version": "3.8.20"
  }
 },
 "nbformat": 4,
 "nbformat_minor": 2
}
